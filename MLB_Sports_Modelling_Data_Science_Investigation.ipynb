{
  "nbformat": 4,
  "nbformat_minor": 0,
  "metadata": {
    "colab": {
      "provenance": []
    },
    "kernelspec": {
      "name": "python3",
      "display_name": "Python 3"
    },
    "language_info": {
      "name": "python"
    }
  },
  "cells": [
    {
      "cell_type": "code",
      "execution_count": 45,
      "metadata": {
        "id": "m4Yqt9KZaOdd"
      },
      "outputs": [],
      "source": [
        "import numpy as np\n",
        "import pandas as pd\n",
        "import seaborn as sns\n",
        "import matplotlib.pyplot as plt\n",
        "\n",
        "from sklearn.model_selection import train_test_split, GridSearchCV\n",
        "from sklearn.preprocessing import StandardScaler\n",
        "from sklearn.metrics import mean_squared_error, mean_absolute_error, r2_score\n",
        "from sklearn.ensemble import RandomForestClassifier\n",
        "from sklearn.metrics import accuracy_score, classification_report"
      ]
    },
    {
      "cell_type": "code",
      "source": [
        "df = pd.read_csv(\"./mlb_elo.csv\")"
      ],
      "metadata": {
        "id": "rDdeQrOjaach"
      },
      "execution_count": 19,
      "outputs": []
    },
    {
      "cell_type": "code",
      "source": [
        "df.head()"
      ],
      "metadata": {
        "colab": {
          "base_uri": "https://localhost:8080/",
          "height": 338
        },
        "id": "SHgLAJj9akvF",
        "outputId": "4113dba1-5b70-4989-c1a6-6145fd367e88"
      },
      "execution_count": 20,
      "outputs": [
        {
          "output_type": "execute_result",
          "data": {
            "text/plain": [
              "         date  season  neutral playoff team1 team2     elo1_pre     elo2_pre  \\\n",
              "0  2021-10-03    2021        0     NaN   ATL   NYM  1520.302033  1511.617803   \n",
              "1  2021-10-03    2021        0     NaN   STL   CHC  1519.691110  1525.797177   \n",
              "2  2021-10-03    2021        0     NaN   SEA   ANA  1479.484611  1478.455457   \n",
              "3  2021-10-03    2021        0     NaN   LAD   MIL  1579.554567  1502.598988   \n",
              "4  2021-10-03    2021        0     NaN   KCR   MIN  1473.202406  1498.953739   \n",
              "\n",
              "   elo_prob1  elo_prob2  ...  pitcher1_rgs  pitcher2_rgs  pitcher1_adj  \\\n",
              "0   0.546898   0.453102  ...           NaN           NaN           NaN   \n",
              "1   0.525729   0.474271  ...           NaN           NaN           NaN   \n",
              "2   0.535958   0.464042  ...           NaN           NaN           NaN   \n",
              "3   0.641331   0.358669  ...           NaN           NaN           NaN   \n",
              "4   0.497480   0.502520  ...           NaN           NaN           NaN   \n",
              "\n",
              "   pitcher2_adj rating_prob1 rating_prob2  rating1_post  rating2_post  score1  \\\n",
              "0           NaN     0.514740     0.485260           NaN           NaN     NaN   \n",
              "1           NaN     0.527320     0.472680           NaN           NaN     NaN   \n",
              "2           NaN     0.499610     0.500390           NaN           NaN     NaN   \n",
              "3           NaN     0.646189     0.353811           NaN           NaN     NaN   \n",
              "4           NaN     0.472238     0.527762           NaN           NaN     NaN   \n",
              "\n",
              "   score2  \n",
              "0     NaN  \n",
              "1     NaN  \n",
              "2     NaN  \n",
              "3     NaN  \n",
              "4     NaN  \n",
              "\n",
              "[5 rows x 26 columns]"
            ],
            "text/html": [
              "\n",
              "  <div id=\"df-0bdf9e15-40d0-4e0c-b7dd-f0c872b1640e\" class=\"colab-df-container\">\n",
              "    <div>\n",
              "<style scoped>\n",
              "    .dataframe tbody tr th:only-of-type {\n",
              "        vertical-align: middle;\n",
              "    }\n",
              "\n",
              "    .dataframe tbody tr th {\n",
              "        vertical-align: top;\n",
              "    }\n",
              "\n",
              "    .dataframe thead th {\n",
              "        text-align: right;\n",
              "    }\n",
              "</style>\n",
              "<table border=\"1\" class=\"dataframe\">\n",
              "  <thead>\n",
              "    <tr style=\"text-align: right;\">\n",
              "      <th></th>\n",
              "      <th>date</th>\n",
              "      <th>season</th>\n",
              "      <th>neutral</th>\n",
              "      <th>playoff</th>\n",
              "      <th>team1</th>\n",
              "      <th>team2</th>\n",
              "      <th>elo1_pre</th>\n",
              "      <th>elo2_pre</th>\n",
              "      <th>elo_prob1</th>\n",
              "      <th>elo_prob2</th>\n",
              "      <th>...</th>\n",
              "      <th>pitcher1_rgs</th>\n",
              "      <th>pitcher2_rgs</th>\n",
              "      <th>pitcher1_adj</th>\n",
              "      <th>pitcher2_adj</th>\n",
              "      <th>rating_prob1</th>\n",
              "      <th>rating_prob2</th>\n",
              "      <th>rating1_post</th>\n",
              "      <th>rating2_post</th>\n",
              "      <th>score1</th>\n",
              "      <th>score2</th>\n",
              "    </tr>\n",
              "  </thead>\n",
              "  <tbody>\n",
              "    <tr>\n",
              "      <th>0</th>\n",
              "      <td>2021-10-03</td>\n",
              "      <td>2021</td>\n",
              "      <td>0</td>\n",
              "      <td>NaN</td>\n",
              "      <td>ATL</td>\n",
              "      <td>NYM</td>\n",
              "      <td>1520.302033</td>\n",
              "      <td>1511.617803</td>\n",
              "      <td>0.546898</td>\n",
              "      <td>0.453102</td>\n",
              "      <td>...</td>\n",
              "      <td>NaN</td>\n",
              "      <td>NaN</td>\n",
              "      <td>NaN</td>\n",
              "      <td>NaN</td>\n",
              "      <td>0.514740</td>\n",
              "      <td>0.485260</td>\n",
              "      <td>NaN</td>\n",
              "      <td>NaN</td>\n",
              "      <td>NaN</td>\n",
              "      <td>NaN</td>\n",
              "    </tr>\n",
              "    <tr>\n",
              "      <th>1</th>\n",
              "      <td>2021-10-03</td>\n",
              "      <td>2021</td>\n",
              "      <td>0</td>\n",
              "      <td>NaN</td>\n",
              "      <td>STL</td>\n",
              "      <td>CHC</td>\n",
              "      <td>1519.691110</td>\n",
              "      <td>1525.797177</td>\n",
              "      <td>0.525729</td>\n",
              "      <td>0.474271</td>\n",
              "      <td>...</td>\n",
              "      <td>NaN</td>\n",
              "      <td>NaN</td>\n",
              "      <td>NaN</td>\n",
              "      <td>NaN</td>\n",
              "      <td>0.527320</td>\n",
              "      <td>0.472680</td>\n",
              "      <td>NaN</td>\n",
              "      <td>NaN</td>\n",
              "      <td>NaN</td>\n",
              "      <td>NaN</td>\n",
              "    </tr>\n",
              "    <tr>\n",
              "      <th>2</th>\n",
              "      <td>2021-10-03</td>\n",
              "      <td>2021</td>\n",
              "      <td>0</td>\n",
              "      <td>NaN</td>\n",
              "      <td>SEA</td>\n",
              "      <td>ANA</td>\n",
              "      <td>1479.484611</td>\n",
              "      <td>1478.455457</td>\n",
              "      <td>0.535958</td>\n",
              "      <td>0.464042</td>\n",
              "      <td>...</td>\n",
              "      <td>NaN</td>\n",
              "      <td>NaN</td>\n",
              "      <td>NaN</td>\n",
              "      <td>NaN</td>\n",
              "      <td>0.499610</td>\n",
              "      <td>0.500390</td>\n",
              "      <td>NaN</td>\n",
              "      <td>NaN</td>\n",
              "      <td>NaN</td>\n",
              "      <td>NaN</td>\n",
              "    </tr>\n",
              "    <tr>\n",
              "      <th>3</th>\n",
              "      <td>2021-10-03</td>\n",
              "      <td>2021</td>\n",
              "      <td>0</td>\n",
              "      <td>NaN</td>\n",
              "      <td>LAD</td>\n",
              "      <td>MIL</td>\n",
              "      <td>1579.554567</td>\n",
              "      <td>1502.598988</td>\n",
              "      <td>0.641331</td>\n",
              "      <td>0.358669</td>\n",
              "      <td>...</td>\n",
              "      <td>NaN</td>\n",
              "      <td>NaN</td>\n",
              "      <td>NaN</td>\n",
              "      <td>NaN</td>\n",
              "      <td>0.646189</td>\n",
              "      <td>0.353811</td>\n",
              "      <td>NaN</td>\n",
              "      <td>NaN</td>\n",
              "      <td>NaN</td>\n",
              "      <td>NaN</td>\n",
              "    </tr>\n",
              "    <tr>\n",
              "      <th>4</th>\n",
              "      <td>2021-10-03</td>\n",
              "      <td>2021</td>\n",
              "      <td>0</td>\n",
              "      <td>NaN</td>\n",
              "      <td>KCR</td>\n",
              "      <td>MIN</td>\n",
              "      <td>1473.202406</td>\n",
              "      <td>1498.953739</td>\n",
              "      <td>0.497480</td>\n",
              "      <td>0.502520</td>\n",
              "      <td>...</td>\n",
              "      <td>NaN</td>\n",
              "      <td>NaN</td>\n",
              "      <td>NaN</td>\n",
              "      <td>NaN</td>\n",
              "      <td>0.472238</td>\n",
              "      <td>0.527762</td>\n",
              "      <td>NaN</td>\n",
              "      <td>NaN</td>\n",
              "      <td>NaN</td>\n",
              "      <td>NaN</td>\n",
              "    </tr>\n",
              "  </tbody>\n",
              "</table>\n",
              "<p>5 rows × 26 columns</p>\n",
              "</div>\n",
              "    <div class=\"colab-df-buttons\">\n",
              "\n",
              "  <div class=\"colab-df-container\">\n",
              "    <button class=\"colab-df-convert\" onclick=\"convertToInteractive('df-0bdf9e15-40d0-4e0c-b7dd-f0c872b1640e')\"\n",
              "            title=\"Convert this dataframe to an interactive table.\"\n",
              "            style=\"display:none;\">\n",
              "\n",
              "  <svg xmlns=\"http://www.w3.org/2000/svg\" height=\"24px\" viewBox=\"0 -960 960 960\">\n",
              "    <path d=\"M120-120v-720h720v720H120Zm60-500h600v-160H180v160Zm220 220h160v-160H400v160Zm0 220h160v-160H400v160ZM180-400h160v-160H180v160Zm440 0h160v-160H620v160ZM180-180h160v-160H180v160Zm440 0h160v-160H620v160Z\"/>\n",
              "  </svg>\n",
              "    </button>\n",
              "\n",
              "  <style>\n",
              "    .colab-df-container {\n",
              "      display:flex;\n",
              "      gap: 12px;\n",
              "    }\n",
              "\n",
              "    .colab-df-convert {\n",
              "      background-color: #E8F0FE;\n",
              "      border: none;\n",
              "      border-radius: 50%;\n",
              "      cursor: pointer;\n",
              "      display: none;\n",
              "      fill: #1967D2;\n",
              "      height: 32px;\n",
              "      padding: 0 0 0 0;\n",
              "      width: 32px;\n",
              "    }\n",
              "\n",
              "    .colab-df-convert:hover {\n",
              "      background-color: #E2EBFA;\n",
              "      box-shadow: 0px 1px 2px rgba(60, 64, 67, 0.3), 0px 1px 3px 1px rgba(60, 64, 67, 0.15);\n",
              "      fill: #174EA6;\n",
              "    }\n",
              "\n",
              "    .colab-df-buttons div {\n",
              "      margin-bottom: 4px;\n",
              "    }\n",
              "\n",
              "    [theme=dark] .colab-df-convert {\n",
              "      background-color: #3B4455;\n",
              "      fill: #D2E3FC;\n",
              "    }\n",
              "\n",
              "    [theme=dark] .colab-df-convert:hover {\n",
              "      background-color: #434B5C;\n",
              "      box-shadow: 0px 1px 3px 1px rgba(0, 0, 0, 0.15);\n",
              "      filter: drop-shadow(0px 1px 2px rgba(0, 0, 0, 0.3));\n",
              "      fill: #FFFFFF;\n",
              "    }\n",
              "  </style>\n",
              "\n",
              "    <script>\n",
              "      const buttonEl =\n",
              "        document.querySelector('#df-0bdf9e15-40d0-4e0c-b7dd-f0c872b1640e button.colab-df-convert');\n",
              "      buttonEl.style.display =\n",
              "        google.colab.kernel.accessAllowed ? 'block' : 'none';\n",
              "\n",
              "      async function convertToInteractive(key) {\n",
              "        const element = document.querySelector('#df-0bdf9e15-40d0-4e0c-b7dd-f0c872b1640e');\n",
              "        const dataTable =\n",
              "          await google.colab.kernel.invokeFunction('convertToInteractive',\n",
              "                                                    [key], {});\n",
              "        if (!dataTable) return;\n",
              "\n",
              "        const docLinkHtml = 'Like what you see? Visit the ' +\n",
              "          '<a target=\"_blank\" href=https://colab.research.google.com/notebooks/data_table.ipynb>data table notebook</a>'\n",
              "          + ' to learn more about interactive tables.';\n",
              "        element.innerHTML = '';\n",
              "        dataTable['output_type'] = 'display_data';\n",
              "        await google.colab.output.renderOutput(dataTable, element);\n",
              "        const docLink = document.createElement('div');\n",
              "        docLink.innerHTML = docLinkHtml;\n",
              "        element.appendChild(docLink);\n",
              "      }\n",
              "    </script>\n",
              "  </div>\n",
              "\n",
              "\n",
              "<div id=\"df-a99a7192-19f0-418a-8459-8793159fb8e4\">\n",
              "  <button class=\"colab-df-quickchart\" onclick=\"quickchart('df-a99a7192-19f0-418a-8459-8793159fb8e4')\"\n",
              "            title=\"Suggest charts\"\n",
              "            style=\"display:none;\">\n",
              "\n",
              "<svg xmlns=\"http://www.w3.org/2000/svg\" height=\"24px\"viewBox=\"0 0 24 24\"\n",
              "     width=\"24px\">\n",
              "    <g>\n",
              "        <path d=\"M19 3H5c-1.1 0-2 .9-2 2v14c0 1.1.9 2 2 2h14c1.1 0 2-.9 2-2V5c0-1.1-.9-2-2-2zM9 17H7v-7h2v7zm4 0h-2V7h2v10zm4 0h-2v-4h2v4z\"/>\n",
              "    </g>\n",
              "</svg>\n",
              "  </button>\n",
              "\n",
              "<style>\n",
              "  .colab-df-quickchart {\n",
              "      --bg-color: #E8F0FE;\n",
              "      --fill-color: #1967D2;\n",
              "      --hover-bg-color: #E2EBFA;\n",
              "      --hover-fill-color: #174EA6;\n",
              "      --disabled-fill-color: #AAA;\n",
              "      --disabled-bg-color: #DDD;\n",
              "  }\n",
              "\n",
              "  [theme=dark] .colab-df-quickchart {\n",
              "      --bg-color: #3B4455;\n",
              "      --fill-color: #D2E3FC;\n",
              "      --hover-bg-color: #434B5C;\n",
              "      --hover-fill-color: #FFFFFF;\n",
              "      --disabled-bg-color: #3B4455;\n",
              "      --disabled-fill-color: #666;\n",
              "  }\n",
              "\n",
              "  .colab-df-quickchart {\n",
              "    background-color: var(--bg-color);\n",
              "    border: none;\n",
              "    border-radius: 50%;\n",
              "    cursor: pointer;\n",
              "    display: none;\n",
              "    fill: var(--fill-color);\n",
              "    height: 32px;\n",
              "    padding: 0;\n",
              "    width: 32px;\n",
              "  }\n",
              "\n",
              "  .colab-df-quickchart:hover {\n",
              "    background-color: var(--hover-bg-color);\n",
              "    box-shadow: 0 1px 2px rgba(60, 64, 67, 0.3), 0 1px 3px 1px rgba(60, 64, 67, 0.15);\n",
              "    fill: var(--button-hover-fill-color);\n",
              "  }\n",
              "\n",
              "  .colab-df-quickchart-complete:disabled,\n",
              "  .colab-df-quickchart-complete:disabled:hover {\n",
              "    background-color: var(--disabled-bg-color);\n",
              "    fill: var(--disabled-fill-color);\n",
              "    box-shadow: none;\n",
              "  }\n",
              "\n",
              "  .colab-df-spinner {\n",
              "    border: 2px solid var(--fill-color);\n",
              "    border-color: transparent;\n",
              "    border-bottom-color: var(--fill-color);\n",
              "    animation:\n",
              "      spin 1s steps(1) infinite;\n",
              "  }\n",
              "\n",
              "  @keyframes spin {\n",
              "    0% {\n",
              "      border-color: transparent;\n",
              "      border-bottom-color: var(--fill-color);\n",
              "      border-left-color: var(--fill-color);\n",
              "    }\n",
              "    20% {\n",
              "      border-color: transparent;\n",
              "      border-left-color: var(--fill-color);\n",
              "      border-top-color: var(--fill-color);\n",
              "    }\n",
              "    30% {\n",
              "      border-color: transparent;\n",
              "      border-left-color: var(--fill-color);\n",
              "      border-top-color: var(--fill-color);\n",
              "      border-right-color: var(--fill-color);\n",
              "    }\n",
              "    40% {\n",
              "      border-color: transparent;\n",
              "      border-right-color: var(--fill-color);\n",
              "      border-top-color: var(--fill-color);\n",
              "    }\n",
              "    60% {\n",
              "      border-color: transparent;\n",
              "      border-right-color: var(--fill-color);\n",
              "    }\n",
              "    80% {\n",
              "      border-color: transparent;\n",
              "      border-right-color: var(--fill-color);\n",
              "      border-bottom-color: var(--fill-color);\n",
              "    }\n",
              "    90% {\n",
              "      border-color: transparent;\n",
              "      border-bottom-color: var(--fill-color);\n",
              "    }\n",
              "  }\n",
              "</style>\n",
              "\n",
              "  <script>\n",
              "    async function quickchart(key) {\n",
              "      const quickchartButtonEl =\n",
              "        document.querySelector('#' + key + ' button');\n",
              "      quickchartButtonEl.disabled = true;  // To prevent multiple clicks.\n",
              "      quickchartButtonEl.classList.add('colab-df-spinner');\n",
              "      try {\n",
              "        const charts = await google.colab.kernel.invokeFunction(\n",
              "            'suggestCharts', [key], {});\n",
              "      } catch (error) {\n",
              "        console.error('Error during call to suggestCharts:', error);\n",
              "      }\n",
              "      quickchartButtonEl.classList.remove('colab-df-spinner');\n",
              "      quickchartButtonEl.classList.add('colab-df-quickchart-complete');\n",
              "    }\n",
              "    (() => {\n",
              "      let quickchartButtonEl =\n",
              "        document.querySelector('#df-a99a7192-19f0-418a-8459-8793159fb8e4 button');\n",
              "      quickchartButtonEl.style.display =\n",
              "        google.colab.kernel.accessAllowed ? 'block' : 'none';\n",
              "    })();\n",
              "  </script>\n",
              "</div>\n",
              "\n",
              "    </div>\n",
              "  </div>\n"
            ],
            "application/vnd.google.colaboratory.intrinsic+json": {
              "type": "dataframe",
              "variable_name": "df"
            }
          },
          "metadata": {},
          "execution_count": 20
        }
      ]
    },
    {
      "cell_type": "code",
      "source": [
        "df.columns"
      ],
      "metadata": {
        "colab": {
          "base_uri": "https://localhost:8080/"
        },
        "id": "8hIOtKW7z30D",
        "outputId": "8b4f18a7-ae9e-4a7f-b7ad-f223daf5953f"
      },
      "execution_count": 21,
      "outputs": [
        {
          "output_type": "execute_result",
          "data": {
            "text/plain": [
              "Index(['date', 'season', 'neutral', 'playoff', 'team1', 'team2', 'elo1_pre',\n",
              "       'elo2_pre', 'elo_prob1', 'elo_prob2', 'elo1_post', 'elo2_post',\n",
              "       'rating1_pre', 'rating2_pre', 'pitcher1', 'pitcher2', 'pitcher1_rgs',\n",
              "       'pitcher2_rgs', 'pitcher1_adj', 'pitcher2_adj', 'rating_prob1',\n",
              "       'rating_prob2', 'rating1_post', 'rating2_post', 'score1', 'score2'],\n",
              "      dtype='object')"
            ]
          },
          "metadata": {},
          "execution_count": 21
        }
      ]
    },
    {
      "cell_type": "code",
      "source": [
        "df.info()"
      ],
      "metadata": {
        "colab": {
          "base_uri": "https://localhost:8080/"
        },
        "id": "kND9XzNyamsk",
        "outputId": "c07fbcb4-8638-4791-ae9a-b46f6593406b"
      },
      "execution_count": 22,
      "outputs": [
        {
          "output_type": "stream",
          "name": "stdout",
          "text": [
            "<class 'pandas.core.frame.DataFrame'>\n",
            "RangeIndex: 223388 entries, 0 to 223387\n",
            "Data columns (total 26 columns):\n",
            " #   Column        Non-Null Count   Dtype  \n",
            "---  ------        --------------   -----  \n",
            " 0   date          223388 non-null  object \n",
            " 1   season        223388 non-null  int64  \n",
            " 2   neutral       223388 non-null  int64  \n",
            " 3   playoff       1670 non-null    object \n",
            " 4   team1         223388 non-null  object \n",
            " 5   team2         223388 non-null  object \n",
            " 6   elo1_pre      223388 non-null  float64\n",
            " 7   elo2_pre      223388 non-null  float64\n",
            " 8   elo_prob1     223388 non-null  float64\n",
            " 9   elo_prob2     223388 non-null  float64\n",
            " 10  elo1_post     221732 non-null  float64\n",
            " 11  elo2_post     221732 non-null  float64\n",
            " 12  rating1_pre   223388 non-null  float64\n",
            " 13  rating2_pre   223388 non-null  float64\n",
            " 14  pitcher1      221829 non-null  object \n",
            " 15  pitcher2      221821 non-null  object \n",
            " 16  pitcher1_rgs  188126 non-null  float64\n",
            " 17  pitcher2_rgs  188118 non-null  float64\n",
            " 18  pitcher1_adj  187445 non-null  float64\n",
            " 19  pitcher2_adj  187438 non-null  float64\n",
            " 20  rating_prob1  223388 non-null  float64\n",
            " 21  rating_prob2  223388 non-null  float64\n",
            " 22  rating1_post  221732 non-null  float64\n",
            " 23  rating2_post  221732 non-null  float64\n",
            " 24  score1        221732 non-null  float64\n",
            " 25  score2        221732 non-null  float64\n",
            "dtypes: float64(18), int64(2), object(6)\n",
            "memory usage: 44.3+ MB\n"
          ]
        }
      ]
    },
    {
      "cell_type": "code",
      "source": [
        "df.isnull().sum()"
      ],
      "metadata": {
        "colab": {
          "base_uri": "https://localhost:8080/"
        },
        "id": "CWNkNNdHao5D",
        "outputId": "82fbf642-6885-4a39-a773-21395ad8fb74"
      },
      "execution_count": 23,
      "outputs": [
        {
          "output_type": "execute_result",
          "data": {
            "text/plain": [
              "date                 0\n",
              "season               0\n",
              "neutral              0\n",
              "playoff         221718\n",
              "team1                0\n",
              "team2                0\n",
              "elo1_pre             0\n",
              "elo2_pre             0\n",
              "elo_prob1            0\n",
              "elo_prob2            0\n",
              "elo1_post         1656\n",
              "elo2_post         1656\n",
              "rating1_pre          0\n",
              "rating2_pre          0\n",
              "pitcher1          1559\n",
              "pitcher2          1567\n",
              "pitcher1_rgs     35262\n",
              "pitcher2_rgs     35270\n",
              "pitcher1_adj     35943\n",
              "pitcher2_adj     35950\n",
              "rating_prob1         0\n",
              "rating_prob2         0\n",
              "rating1_post      1656\n",
              "rating2_post      1656\n",
              "score1            1656\n",
              "score2            1656\n",
              "dtype: int64"
            ]
          },
          "metadata": {},
          "execution_count": 23
        }
      ]
    },
    {
      "cell_type": "code",
      "source": [
        "# column 'playoff' has the most NaN values for the dataset\n",
        "# so it makes sense to remove it\n",
        "df = df.drop(columns=['playoff'])"
      ],
      "metadata": {
        "id": "yxCxl_byatcY"
      },
      "execution_count": 24,
      "outputs": []
    },
    {
      "cell_type": "code",
      "source": [
        "df.isnull().sum()"
      ],
      "metadata": {
        "colab": {
          "base_uri": "https://localhost:8080/"
        },
        "id": "gUOnKP_LaurS",
        "outputId": "967a413e-e8b2-4fee-f69e-34c4ca0102ed"
      },
      "execution_count": 25,
      "outputs": [
        {
          "output_type": "execute_result",
          "data": {
            "text/plain": [
              "date                0\n",
              "season              0\n",
              "neutral             0\n",
              "team1               0\n",
              "team2               0\n",
              "elo1_pre            0\n",
              "elo2_pre            0\n",
              "elo_prob1           0\n",
              "elo_prob2           0\n",
              "elo1_post        1656\n",
              "elo2_post        1656\n",
              "rating1_pre         0\n",
              "rating2_pre         0\n",
              "pitcher1         1559\n",
              "pitcher2         1567\n",
              "pitcher1_rgs    35262\n",
              "pitcher2_rgs    35270\n",
              "pitcher1_adj    35943\n",
              "pitcher2_adj    35950\n",
              "rating_prob1        0\n",
              "rating_prob2        0\n",
              "rating1_post     1656\n",
              "rating2_post     1656\n",
              "score1           1656\n",
              "score2           1656\n",
              "dtype: int64"
            ]
          },
          "metadata": {},
          "execution_count": 25
        }
      ]
    },
    {
      "cell_type": "code",
      "source": [
        "# dropping rows with NaN values\n",
        "df = df.dropna()"
      ],
      "metadata": {
        "id": "ghyLYq-AayIj"
      },
      "execution_count": 26,
      "outputs": []
    },
    {
      "cell_type": "code",
      "source": [
        "df.shape"
      ],
      "metadata": {
        "colab": {
          "base_uri": "https://localhost:8080/"
        },
        "id": "j5humjp0a4v2",
        "outputId": "7d4a14f9-423d-4746-b13b-ff7c89492841"
      },
      "execution_count": 27,
      "outputs": [
        {
          "output_type": "execute_result",
          "data": {
            "text/plain": [
              "(187308, 25)"
            ]
          },
          "metadata": {},
          "execution_count": 27
        }
      ]
    },
    {
      "cell_type": "code",
      "source": [
        "df['date'] = pd.to_datetime(df['date'])"
      ],
      "metadata": {
        "id": "AYZZDe7ea7HK"
      },
      "execution_count": 28,
      "outputs": []
    },
    {
      "cell_type": "code",
      "source": [
        "# feature engineering - creating a win/loss outcome for every team\n",
        "df['match_outcome'] = df.apply(lambda row: 1 if row['score1'] > row['score2'] else 0, axis=1)"
      ],
      "metadata": {
        "id": "pMf44HaUa9ok"
      },
      "execution_count": 29,
      "outputs": []
    },
    {
      "cell_type": "code",
      "source": [
        "df.head()"
      ],
      "metadata": {
        "colab": {
          "base_uri": "https://localhost:8080/",
          "height": 338
        },
        "id": "PmaaFrsubAcz",
        "outputId": "055fd74c-8366-4b8d-b80d-48ee1a5a0d9e"
      },
      "execution_count": 30,
      "outputs": [
        {
          "output_type": "execute_result",
          "data": {
            "text/plain": [
              "           date  season  neutral team1 team2     elo1_pre     elo2_pre  \\\n",
              "1656 2021-05-29    2021        0   SEA   TEX  1478.232257  1468.429332   \n",
              "1657 2021-05-29    2021        0   ARI   STL  1470.837067  1517.687775   \n",
              "1658 2021-05-29    2021        0   WSN   MIL  1506.964453  1499.670281   \n",
              "1659 2021-05-29    2021        0   NYM   ATL  1506.915517  1525.004318   \n",
              "1660 2021-05-29    2021        0   LAD   SFG  1583.449141  1529.795941   \n",
              "\n",
              "      elo_prob1  elo_prob2    elo1_post  ...  pitcher2_rgs  pitcher1_adj  \\\n",
              "1656   0.548493   0.451507  1479.484611  ...     51.535568     10.048869   \n",
              "1657   0.467163   0.532837  1468.833732  ...     52.576120    -13.636972   \n",
              "1658   0.544915   0.455085  1504.035746  ...     49.046639    -24.516408   \n",
              "1659   0.508506   0.491494  1511.617803  ...     56.131278     -1.458600   \n",
              "1660   0.609928   0.390072  1579.554567  ...     48.572938     -7.925001   \n",
              "\n",
              "      pitcher2_adj rating_prob1 rating_prob2  rating1_post  rating2_post  \\\n",
              "1656      8.334523     0.549112     0.450888   1469.208247   1458.810231   \n",
              "1657      5.708600     0.448091     0.551909   1467.262980   1510.965758   \n",
              "1658    -22.061039     0.528863     0.471137   1507.780893   1513.480235   \n",
              "1659     15.311439     0.519598     0.480402   1537.047428   1523.249507   \n",
              "1660    -12.522449     0.665280     0.334720   1595.498957   1511.335961   \n",
              "\n",
              "      score1  score2  match_outcome  \n",
              "1656     3.0     2.0              1  \n",
              "1657     4.0     7.0              0  \n",
              "1658     2.0     6.0              0  \n",
              "1659    13.0     2.0              1  \n",
              "1660     6.0    11.0              0  \n",
              "\n",
              "[5 rows x 26 columns]"
            ],
            "text/html": [
              "\n",
              "  <div id=\"df-da4b8d1b-edb6-433c-a7de-ada443d20894\" class=\"colab-df-container\">\n",
              "    <div>\n",
              "<style scoped>\n",
              "    .dataframe tbody tr th:only-of-type {\n",
              "        vertical-align: middle;\n",
              "    }\n",
              "\n",
              "    .dataframe tbody tr th {\n",
              "        vertical-align: top;\n",
              "    }\n",
              "\n",
              "    .dataframe thead th {\n",
              "        text-align: right;\n",
              "    }\n",
              "</style>\n",
              "<table border=\"1\" class=\"dataframe\">\n",
              "  <thead>\n",
              "    <tr style=\"text-align: right;\">\n",
              "      <th></th>\n",
              "      <th>date</th>\n",
              "      <th>season</th>\n",
              "      <th>neutral</th>\n",
              "      <th>team1</th>\n",
              "      <th>team2</th>\n",
              "      <th>elo1_pre</th>\n",
              "      <th>elo2_pre</th>\n",
              "      <th>elo_prob1</th>\n",
              "      <th>elo_prob2</th>\n",
              "      <th>elo1_post</th>\n",
              "      <th>...</th>\n",
              "      <th>pitcher2_rgs</th>\n",
              "      <th>pitcher1_adj</th>\n",
              "      <th>pitcher2_adj</th>\n",
              "      <th>rating_prob1</th>\n",
              "      <th>rating_prob2</th>\n",
              "      <th>rating1_post</th>\n",
              "      <th>rating2_post</th>\n",
              "      <th>score1</th>\n",
              "      <th>score2</th>\n",
              "      <th>match_outcome</th>\n",
              "    </tr>\n",
              "  </thead>\n",
              "  <tbody>\n",
              "    <tr>\n",
              "      <th>1656</th>\n",
              "      <td>2021-05-29</td>\n",
              "      <td>2021</td>\n",
              "      <td>0</td>\n",
              "      <td>SEA</td>\n",
              "      <td>TEX</td>\n",
              "      <td>1478.232257</td>\n",
              "      <td>1468.429332</td>\n",
              "      <td>0.548493</td>\n",
              "      <td>0.451507</td>\n",
              "      <td>1479.484611</td>\n",
              "      <td>...</td>\n",
              "      <td>51.535568</td>\n",
              "      <td>10.048869</td>\n",
              "      <td>8.334523</td>\n",
              "      <td>0.549112</td>\n",
              "      <td>0.450888</td>\n",
              "      <td>1469.208247</td>\n",
              "      <td>1458.810231</td>\n",
              "      <td>3.0</td>\n",
              "      <td>2.0</td>\n",
              "      <td>1</td>\n",
              "    </tr>\n",
              "    <tr>\n",
              "      <th>1657</th>\n",
              "      <td>2021-05-29</td>\n",
              "      <td>2021</td>\n",
              "      <td>0</td>\n",
              "      <td>ARI</td>\n",
              "      <td>STL</td>\n",
              "      <td>1470.837067</td>\n",
              "      <td>1517.687775</td>\n",
              "      <td>0.467163</td>\n",
              "      <td>0.532837</td>\n",
              "      <td>1468.833732</td>\n",
              "      <td>...</td>\n",
              "      <td>52.576120</td>\n",
              "      <td>-13.636972</td>\n",
              "      <td>5.708600</td>\n",
              "      <td>0.448091</td>\n",
              "      <td>0.551909</td>\n",
              "      <td>1467.262980</td>\n",
              "      <td>1510.965758</td>\n",
              "      <td>4.0</td>\n",
              "      <td>7.0</td>\n",
              "      <td>0</td>\n",
              "    </tr>\n",
              "    <tr>\n",
              "      <th>1658</th>\n",
              "      <td>2021-05-29</td>\n",
              "      <td>2021</td>\n",
              "      <td>0</td>\n",
              "      <td>WSN</td>\n",
              "      <td>MIL</td>\n",
              "      <td>1506.964453</td>\n",
              "      <td>1499.670281</td>\n",
              "      <td>0.544915</td>\n",
              "      <td>0.455085</td>\n",
              "      <td>1504.035746</td>\n",
              "      <td>...</td>\n",
              "      <td>49.046639</td>\n",
              "      <td>-24.516408</td>\n",
              "      <td>-22.061039</td>\n",
              "      <td>0.528863</td>\n",
              "      <td>0.471137</td>\n",
              "      <td>1507.780893</td>\n",
              "      <td>1513.480235</td>\n",
              "      <td>2.0</td>\n",
              "      <td>6.0</td>\n",
              "      <td>0</td>\n",
              "    </tr>\n",
              "    <tr>\n",
              "      <th>1659</th>\n",
              "      <td>2021-05-29</td>\n",
              "      <td>2021</td>\n",
              "      <td>0</td>\n",
              "      <td>NYM</td>\n",
              "      <td>ATL</td>\n",
              "      <td>1506.915517</td>\n",
              "      <td>1525.004318</td>\n",
              "      <td>0.508506</td>\n",
              "      <td>0.491494</td>\n",
              "      <td>1511.617803</td>\n",
              "      <td>...</td>\n",
              "      <td>56.131278</td>\n",
              "      <td>-1.458600</td>\n",
              "      <td>15.311439</td>\n",
              "      <td>0.519598</td>\n",
              "      <td>0.480402</td>\n",
              "      <td>1537.047428</td>\n",
              "      <td>1523.249507</td>\n",
              "      <td>13.0</td>\n",
              "      <td>2.0</td>\n",
              "      <td>1</td>\n",
              "    </tr>\n",
              "    <tr>\n",
              "      <th>1660</th>\n",
              "      <td>2021-05-29</td>\n",
              "      <td>2021</td>\n",
              "      <td>0</td>\n",
              "      <td>LAD</td>\n",
              "      <td>SFG</td>\n",
              "      <td>1583.449141</td>\n",
              "      <td>1529.795941</td>\n",
              "      <td>0.609928</td>\n",
              "      <td>0.390072</td>\n",
              "      <td>1579.554567</td>\n",
              "      <td>...</td>\n",
              "      <td>48.572938</td>\n",
              "      <td>-7.925001</td>\n",
              "      <td>-12.522449</td>\n",
              "      <td>0.665280</td>\n",
              "      <td>0.334720</td>\n",
              "      <td>1595.498957</td>\n",
              "      <td>1511.335961</td>\n",
              "      <td>6.0</td>\n",
              "      <td>11.0</td>\n",
              "      <td>0</td>\n",
              "    </tr>\n",
              "  </tbody>\n",
              "</table>\n",
              "<p>5 rows × 26 columns</p>\n",
              "</div>\n",
              "    <div class=\"colab-df-buttons\">\n",
              "\n",
              "  <div class=\"colab-df-container\">\n",
              "    <button class=\"colab-df-convert\" onclick=\"convertToInteractive('df-da4b8d1b-edb6-433c-a7de-ada443d20894')\"\n",
              "            title=\"Convert this dataframe to an interactive table.\"\n",
              "            style=\"display:none;\">\n",
              "\n",
              "  <svg xmlns=\"http://www.w3.org/2000/svg\" height=\"24px\" viewBox=\"0 -960 960 960\">\n",
              "    <path d=\"M120-120v-720h720v720H120Zm60-500h600v-160H180v160Zm220 220h160v-160H400v160Zm0 220h160v-160H400v160ZM180-400h160v-160H180v160Zm440 0h160v-160H620v160ZM180-180h160v-160H180v160Zm440 0h160v-160H620v160Z\"/>\n",
              "  </svg>\n",
              "    </button>\n",
              "\n",
              "  <style>\n",
              "    .colab-df-container {\n",
              "      display:flex;\n",
              "      gap: 12px;\n",
              "    }\n",
              "\n",
              "    .colab-df-convert {\n",
              "      background-color: #E8F0FE;\n",
              "      border: none;\n",
              "      border-radius: 50%;\n",
              "      cursor: pointer;\n",
              "      display: none;\n",
              "      fill: #1967D2;\n",
              "      height: 32px;\n",
              "      padding: 0 0 0 0;\n",
              "      width: 32px;\n",
              "    }\n",
              "\n",
              "    .colab-df-convert:hover {\n",
              "      background-color: #E2EBFA;\n",
              "      box-shadow: 0px 1px 2px rgba(60, 64, 67, 0.3), 0px 1px 3px 1px rgba(60, 64, 67, 0.15);\n",
              "      fill: #174EA6;\n",
              "    }\n",
              "\n",
              "    .colab-df-buttons div {\n",
              "      margin-bottom: 4px;\n",
              "    }\n",
              "\n",
              "    [theme=dark] .colab-df-convert {\n",
              "      background-color: #3B4455;\n",
              "      fill: #D2E3FC;\n",
              "    }\n",
              "\n",
              "    [theme=dark] .colab-df-convert:hover {\n",
              "      background-color: #434B5C;\n",
              "      box-shadow: 0px 1px 3px 1px rgba(0, 0, 0, 0.15);\n",
              "      filter: drop-shadow(0px 1px 2px rgba(0, 0, 0, 0.3));\n",
              "      fill: #FFFFFF;\n",
              "    }\n",
              "  </style>\n",
              "\n",
              "    <script>\n",
              "      const buttonEl =\n",
              "        document.querySelector('#df-da4b8d1b-edb6-433c-a7de-ada443d20894 button.colab-df-convert');\n",
              "      buttonEl.style.display =\n",
              "        google.colab.kernel.accessAllowed ? 'block' : 'none';\n",
              "\n",
              "      async function convertToInteractive(key) {\n",
              "        const element = document.querySelector('#df-da4b8d1b-edb6-433c-a7de-ada443d20894');\n",
              "        const dataTable =\n",
              "          await google.colab.kernel.invokeFunction('convertToInteractive',\n",
              "                                                    [key], {});\n",
              "        if (!dataTable) return;\n",
              "\n",
              "        const docLinkHtml = 'Like what you see? Visit the ' +\n",
              "          '<a target=\"_blank\" href=https://colab.research.google.com/notebooks/data_table.ipynb>data table notebook</a>'\n",
              "          + ' to learn more about interactive tables.';\n",
              "        element.innerHTML = '';\n",
              "        dataTable['output_type'] = 'display_data';\n",
              "        await google.colab.output.renderOutput(dataTable, element);\n",
              "        const docLink = document.createElement('div');\n",
              "        docLink.innerHTML = docLinkHtml;\n",
              "        element.appendChild(docLink);\n",
              "      }\n",
              "    </script>\n",
              "  </div>\n",
              "\n",
              "\n",
              "<div id=\"df-b9d66761-4c51-48bb-b35a-1dd33ed5e4c6\">\n",
              "  <button class=\"colab-df-quickchart\" onclick=\"quickchart('df-b9d66761-4c51-48bb-b35a-1dd33ed5e4c6')\"\n",
              "            title=\"Suggest charts\"\n",
              "            style=\"display:none;\">\n",
              "\n",
              "<svg xmlns=\"http://www.w3.org/2000/svg\" height=\"24px\"viewBox=\"0 0 24 24\"\n",
              "     width=\"24px\">\n",
              "    <g>\n",
              "        <path d=\"M19 3H5c-1.1 0-2 .9-2 2v14c0 1.1.9 2 2 2h14c1.1 0 2-.9 2-2V5c0-1.1-.9-2-2-2zM9 17H7v-7h2v7zm4 0h-2V7h2v10zm4 0h-2v-4h2v4z\"/>\n",
              "    </g>\n",
              "</svg>\n",
              "  </button>\n",
              "\n",
              "<style>\n",
              "  .colab-df-quickchart {\n",
              "      --bg-color: #E8F0FE;\n",
              "      --fill-color: #1967D2;\n",
              "      --hover-bg-color: #E2EBFA;\n",
              "      --hover-fill-color: #174EA6;\n",
              "      --disabled-fill-color: #AAA;\n",
              "      --disabled-bg-color: #DDD;\n",
              "  }\n",
              "\n",
              "  [theme=dark] .colab-df-quickchart {\n",
              "      --bg-color: #3B4455;\n",
              "      --fill-color: #D2E3FC;\n",
              "      --hover-bg-color: #434B5C;\n",
              "      --hover-fill-color: #FFFFFF;\n",
              "      --disabled-bg-color: #3B4455;\n",
              "      --disabled-fill-color: #666;\n",
              "  }\n",
              "\n",
              "  .colab-df-quickchart {\n",
              "    background-color: var(--bg-color);\n",
              "    border: none;\n",
              "    border-radius: 50%;\n",
              "    cursor: pointer;\n",
              "    display: none;\n",
              "    fill: var(--fill-color);\n",
              "    height: 32px;\n",
              "    padding: 0;\n",
              "    width: 32px;\n",
              "  }\n",
              "\n",
              "  .colab-df-quickchart:hover {\n",
              "    background-color: var(--hover-bg-color);\n",
              "    box-shadow: 0 1px 2px rgba(60, 64, 67, 0.3), 0 1px 3px 1px rgba(60, 64, 67, 0.15);\n",
              "    fill: var(--button-hover-fill-color);\n",
              "  }\n",
              "\n",
              "  .colab-df-quickchart-complete:disabled,\n",
              "  .colab-df-quickchart-complete:disabled:hover {\n",
              "    background-color: var(--disabled-bg-color);\n",
              "    fill: var(--disabled-fill-color);\n",
              "    box-shadow: none;\n",
              "  }\n",
              "\n",
              "  .colab-df-spinner {\n",
              "    border: 2px solid var(--fill-color);\n",
              "    border-color: transparent;\n",
              "    border-bottom-color: var(--fill-color);\n",
              "    animation:\n",
              "      spin 1s steps(1) infinite;\n",
              "  }\n",
              "\n",
              "  @keyframes spin {\n",
              "    0% {\n",
              "      border-color: transparent;\n",
              "      border-bottom-color: var(--fill-color);\n",
              "      border-left-color: var(--fill-color);\n",
              "    }\n",
              "    20% {\n",
              "      border-color: transparent;\n",
              "      border-left-color: var(--fill-color);\n",
              "      border-top-color: var(--fill-color);\n",
              "    }\n",
              "    30% {\n",
              "      border-color: transparent;\n",
              "      border-left-color: var(--fill-color);\n",
              "      border-top-color: var(--fill-color);\n",
              "      border-right-color: var(--fill-color);\n",
              "    }\n",
              "    40% {\n",
              "      border-color: transparent;\n",
              "      border-right-color: var(--fill-color);\n",
              "      border-top-color: var(--fill-color);\n",
              "    }\n",
              "    60% {\n",
              "      border-color: transparent;\n",
              "      border-right-color: var(--fill-color);\n",
              "    }\n",
              "    80% {\n",
              "      border-color: transparent;\n",
              "      border-right-color: var(--fill-color);\n",
              "      border-bottom-color: var(--fill-color);\n",
              "    }\n",
              "    90% {\n",
              "      border-color: transparent;\n",
              "      border-bottom-color: var(--fill-color);\n",
              "    }\n",
              "  }\n",
              "</style>\n",
              "\n",
              "  <script>\n",
              "    async function quickchart(key) {\n",
              "      const quickchartButtonEl =\n",
              "        document.querySelector('#' + key + ' button');\n",
              "      quickchartButtonEl.disabled = true;  // To prevent multiple clicks.\n",
              "      quickchartButtonEl.classList.add('colab-df-spinner');\n",
              "      try {\n",
              "        const charts = await google.colab.kernel.invokeFunction(\n",
              "            'suggestCharts', [key], {});\n",
              "      } catch (error) {\n",
              "        console.error('Error during call to suggestCharts:', error);\n",
              "      }\n",
              "      quickchartButtonEl.classList.remove('colab-df-spinner');\n",
              "      quickchartButtonEl.classList.add('colab-df-quickchart-complete');\n",
              "    }\n",
              "    (() => {\n",
              "      let quickchartButtonEl =\n",
              "        document.querySelector('#df-b9d66761-4c51-48bb-b35a-1dd33ed5e4c6 button');\n",
              "      quickchartButtonEl.style.display =\n",
              "        google.colab.kernel.accessAllowed ? 'block' : 'none';\n",
              "    })();\n",
              "  </script>\n",
              "</div>\n",
              "\n",
              "    </div>\n",
              "  </div>\n"
            ],
            "application/vnd.google.colaboratory.intrinsic+json": {
              "type": "dataframe",
              "variable_name": "df"
            }
          },
          "metadata": {},
          "execution_count": 30
        }
      ]
    },
    {
      "cell_type": "code",
      "source": [
        "# Distribution of ELO ratings\n",
        "sns.histplot(df['elo1_pre'], kde=True)\n",
        "plt.title('Distribution of Home Team Elo Ratings Before Game')\n",
        "plt.show()"
      ],
      "metadata": {
        "colab": {
          "base_uri": "https://localhost:8080/",
          "height": 472
        },
        "id": "8VA79CJNbCBC",
        "outputId": "dc6ea03f-0382-47a6-c981-1034e09b90a7"
      },
      "execution_count": 32,
      "outputs": [
        {
          "output_type": "display_data",
          "data": {
            "text/plain": [
              "<Figure size 640x480 with 1 Axes>"
            ],
            "image/png": "[encoded data removed]"
          },
          "metadata": {}
        }
      ]
    },
    {
      "cell_type": "code",
      "source": [
        "# Win/Loss distribution Visualization\n",
        "plot = sns.countplot(x='match_outcome', data=df)\n",
        "plot.set_xticklabels(['Loss', 'Win'], ha='right')\n",
        "plt.title('Win/Loss Distribution for Home Team')\n",
        "plt.show()"
      ],
      "metadata": {
        "colab": {
          "base_uri": "https://localhost:8080/",
          "height": 506
        },
        "id": "z43Y1YRxbF-d",
        "outputId": "8d41780c-5104-4f0f-8731-22e5e5541e61"
      },
      "execution_count": 33,
      "outputs": [
        {
          "output_type": "stream",
          "name": "stderr",
          "text": [
            "<ipython-input-33-b5b0fefb89ba>:3: UserWarning: FixedFormatter should only be used together with FixedLocator\n",
            "  plot.set_xticklabels(['Loss', 'Win'], ha='right')\n"
          ]
        },
        {
          "output_type": "display_data",
          "data": {
            "text/plain": [
              "<Figure size 640x480 with 1 Axes>"
            ],
            "image/png": "[encoded data removed]"
          },
          "metadata": {}
        }
      ]
    },
    {
      "cell_type": "code",
      "source": [
        "# Filter data for the year 2021\n",
        "df_2021 = df[df['date'].dt.year == 2021]"
      ],
      "metadata": {
        "id": "rXfnv2jjdtkM"
      },
      "execution_count": 34,
      "outputs": []
    },
    {
      "cell_type": "markdown",
      "source": [
        "This is another way to extract x% of data from the dataset, on a random basis.\n",
        "We are sampling 10% of the data randomly from the entire population (which is the entire dataset in this case).\n",
        "\n",
        "```\n",
        "percentage_to_keep = 0.1\n",
        "rows_to_keep = int(len(df) * percentage_to_keep)\n",
        "reduced_data = df.sample(n=rows_to_keep, random_state=42)\n",
        "```\n",
        "\n"
      ],
      "metadata": {
        "id": "SnTKcjUexU_p"
      }
    },
    {
      "cell_type": "code",
      "source": [
        "df_2021.shape"
      ],
      "metadata": {
        "colab": {
          "base_uri": "https://localhost:8080/"
        },
        "id": "4pkjY3gyfjqi",
        "outputId": "053a0831-bfe7-4344-8c90-4978dca04fba"
      },
      "execution_count": 35,
      "outputs": [
        {
          "output_type": "execute_result",
          "data": {
            "text/plain": [
              "(771, 26)"
            ]
          },
          "metadata": {},
          "execution_count": 35
        }
      ]
    },
    {
      "cell_type": "code",
      "source": [
        "X = df_2021[['elo1_pre', 'elo2_pre', 'rating1_pre', 'rating2_pre']]\n",
        "y = df_2021['match_outcome']"
      ],
      "metadata": {
        "id": "I2SNN8xWbSuF"
      },
      "execution_count": 36,
      "outputs": []
    },
    {
      "cell_type": "code",
      "source": [
        "X_train, X_test, y_train, y_test = train_test_split(X, y, test_size=0.2, random_state=42)"
      ],
      "metadata": {
        "id": "OErAV5ggrzr1"
      },
      "execution_count": 37,
      "outputs": []
    },
    {
      "cell_type": "code",
      "source": [
        "scaler = StandardScaler()"
      ],
      "metadata": {
        "id": "VhsvIvfebYha"
      },
      "execution_count": 38,
      "outputs": []
    },
    {
      "cell_type": "code",
      "source": [
        "# scaling the data using the StandardScaler\n",
        "X_train_scaled = scaler.fit_transform(X_train)\n",
        "X_test_scaled = scaler.transform(X_test)"
      ],
      "metadata": {
        "id": "w5CGK_mRbcqS"
      },
      "execution_count": 39,
      "outputs": []
    },
    {
      "cell_type": "code",
      "source": [
        "# performing Random Forest Classification\n",
        "rf = RandomForestClassifier()"
      ],
      "metadata": {
        "id": "9p4tBT7IsBmc"
      },
      "execution_count": 40,
      "outputs": []
    },
    {
      "cell_type": "code",
      "source": [
        "# parameter dictionary for grid search\n",
        "param_grid_rf = {\n",
        "    'n_estimators': [50, 100, 200],\n",
        "    'max_depth': [10, 20],\n",
        "    'min_samples_split': [2, 5, 10]\n",
        "}"
      ],
      "metadata": {
        "id": "aEC_Rj8GsDpx"
      },
      "execution_count": 41,
      "outputs": []
    },
    {
      "cell_type": "code",
      "source": [
        "# creating the GridSearchCV (Grid Search Cross Validation) object\n",
        "grid_search_rf = GridSearchCV(estimator=rf, param_grid=param_grid_rf, cv=5, scoring='accuracy', verbose=1)"
      ],
      "metadata": {
        "id": "w8oKSXwasHRn"
      },
      "execution_count": 42,
      "outputs": []
    },
    {
      "cell_type": "code",
      "source": [
        "grid_search_rf.fit(X_train_scaled, y_train)"
      ],
      "metadata": {
        "colab": {
          "base_uri": "https://localhost:8080/",
          "height": 132
        },
        "id": "vXjkbidI2E_f",
        "outputId": "1ff930c0-adfe-464e-c05b-e414d8408d63"
      },
      "execution_count": 71,
      "outputs": [
        {
          "output_type": "stream",
          "name": "stdout",
          "text": [
            "Fitting 5 folds for each of 18 candidates, totalling 90 fits\n"
          ]
        },
        {
          "output_type": "execute_result",
          "data": {
            "text/plain": [
              "GridSearchCV(cv=5, estimator=RandomForestClassifier(),\n",
              "             param_grid={'max_depth': [10, 20], 'min_samples_split': [2, 5, 10],\n",
              "                         'n_estimators': [50, 100, 200]},\n",
              "             scoring='accuracy', verbose=1)"
            ],
            "text/html": [
              "<style>#sk-container-id-14 {color: black;background-color: white;}#sk-container-id-14 pre{padding: 0;}#sk-container-id-14 div.sk-toggleable {background-color: white;}#sk-container-id-14 label.sk-toggleable__label {cursor: pointer;display: block;width: 100%;margin-bottom: 0;padding: 0.3em;box-sizing: border-box;text-align: center;}#sk-container-id-14 label.sk-toggleable__label-arrow:before {content: \"▸\";float: left;margin-right: 0.25em;color: #696969;}#sk-container-id-14 label.sk-toggleable__label-arrow:hover:before {color: black;}#sk-container-id-14 div.sk-estimator:hover label.sk-toggleable__label-arrow:before {color: black;}#sk-container-id-14 div.sk-toggleable__content {max-height: 0;max-width: 0;overflow: hidden;text-align: left;background-color: #f0f8ff;}#sk-container-id-14 div.sk-toggleable__content pre {margin: 0.2em;color: black;border-radius: 0.25em;background-color: #f0f8ff;}#sk-container-id-14 input.sk-toggleable__control:checked~div.sk-toggleable__content {max-height: 200px;max-width: 100%;overflow: auto;}#sk-container-id-14 input.sk-toggleable__control:checked~label.sk-toggleable__label-arrow:before {content: \"▾\";}#sk-container-id-14 div.sk-estimator input.sk-toggleable__control:checked~label.sk-toggleable__label {background-color: #d4ebff;}#sk-container-id-14 div.sk-label input.sk-toggleable__control:checked~label.sk-toggleable__label {background-color: #d4ebff;}#sk-container-id-14 input.sk-hidden--visually {border: 0;clip: rect(1px 1px 1px 1px);clip: rect(1px, 1px, 1px, 1px);height: 1px;margin: -1px;overflow: hidden;padding: 0;position: absolute;width: 1px;}#sk-container-id-14 div.sk-estimator {font-family: monospace;background-color: #f0f8ff;border: 1px dotted black;border-radius: 0.25em;box-sizing: border-box;margin-bottom: 0.5em;}#sk-container-id-14 div.sk-estimator:hover {background-color: #d4ebff;}#sk-container-id-14 div.sk-parallel-item::after {content: \"\";width: 100%;border-bottom: 1px solid gray;flex-grow: 1;}#sk-container-id-14 div.sk-label:hover label.sk-toggleable__label {background-color: #d4ebff;}#sk-container-id-14 div.sk-serial::before {content: \"\";position: absolute;border-left: 1px solid gray;box-sizing: border-box;top: 0;bottom: 0;left: 50%;z-index: 0;}#sk-container-id-14 div.sk-serial {display: flex;flex-direction: column;align-items: center;background-color: white;padding-right: 0.2em;padding-left: 0.2em;position: relative;}#sk-container-id-14 div.sk-item {position: relative;z-index: 1;}#sk-container-id-14 div.sk-parallel {display: flex;align-items: stretch;justify-content: center;background-color: white;position: relative;}#sk-container-id-14 div.sk-item::before, #sk-container-id-14 div.sk-parallel-item::before {content: \"\";position: absolute;border-left: 1px solid gray;box-sizing: border-box;top: 0;bottom: 0;left: 50%;z-index: -1;}#sk-container-id-14 div.sk-parallel-item {display: flex;flex-direction: column;z-index: 1;position: relative;background-color: white;}#sk-container-id-14 div.sk-parallel-item:first-child::after {align-self: flex-end;width: 50%;}#sk-container-id-14 div.sk-parallel-item:last-child::after {align-self: flex-start;width: 50%;}#sk-container-id-14 div.sk-parallel-item:only-child::after {width: 0;}#sk-container-id-14 div.sk-dashed-wrapped {border: 1px dashed gray;margin: 0 0.4em 0.5em 0.4em;box-sizing: border-box;padding-bottom: 0.4em;background-color: white;}#sk-container-id-14 div.sk-label label {font-family: monospace;font-weight: bold;display: inline-block;line-height: 1.2em;}#sk-container-id-14 div.sk-label-container {text-align: center;}#sk-container-id-14 div.sk-container {/* jupyter's `normalize.less` sets `[hidden] { display: none; }` but bootstrap.min.css set `[hidden] { display: none !important; }` so we also need the `!important` here to be able to override the default hidden behavior on the sphinx rendered scikit-learn.org. See: https://github.com/scikit-learn/scikit-learn/issues/21755 */display: inline-block !important;position: relative;}#sk-container-id-14 div.sk-text-repr-fallback {display: none;}</style><div id=\"sk-container-id-14\" class=\"sk-top-container\"><div class=\"sk-text-repr-fallback\"><pre>GridSearchCV(cv=5, estimator=RandomForestClassifier(),\n",
              "             param_grid={&#x27;max_depth&#x27;: [10, 20], &#x27;min_samples_split&#x27;: [2, 5, 10],\n",
              "                         &#x27;n_estimators&#x27;: [50, 100, 200]},\n",
              "             scoring=&#x27;accuracy&#x27;, verbose=1)</pre><b>In a Jupyter environment, please rerun this cell to show the HTML representation or trust the notebook. <br />On GitHub, the HTML representation is unable to render, please try loading this page with nbviewer.org.</b></div><div class=\"sk-container\" hidden><div class=\"sk-item sk-dashed-wrapped\"><div class=\"sk-label-container\"><div class=\"sk-label sk-toggleable\"><input class=\"sk-toggleable__control sk-hidden--visually\" id=\"sk-estimator-id-40\" type=\"checkbox\" ><label for=\"sk-estimator-id-40\" class=\"sk-toggleable__label sk-toggleable__label-arrow\">GridSearchCV</label><div class=\"sk-toggleable__content\"><pre>GridSearchCV(cv=5, estimator=RandomForestClassifier(),\n",
              "             param_grid={&#x27;max_depth&#x27;: [10, 20], &#x27;min_samples_split&#x27;: [2, 5, 10],\n",
              "                         &#x27;n_estimators&#x27;: [50, 100, 200]},\n",
              "             scoring=&#x27;accuracy&#x27;, verbose=1)</pre></div></div></div><div class=\"sk-parallel\"><div class=\"sk-parallel-item\"><div class=\"sk-item\"><div class=\"sk-label-container\"><div class=\"sk-label sk-toggleable\"><input class=\"sk-toggleable__control sk-hidden--visually\" id=\"sk-estimator-id-41\" type=\"checkbox\" ><label for=\"sk-estimator-id-41\" class=\"sk-toggleable__label sk-toggleable__label-arrow\">estimator: RandomForestClassifier</label><div class=\"sk-toggleable__content\"><pre>RandomForestClassifier()</pre></div></div></div><div class=\"sk-serial\"><div class=\"sk-item\"><div class=\"sk-estimator sk-toggleable\"><input class=\"sk-toggleable__control sk-hidden--visually\" id=\"sk-estimator-id-42\" type=\"checkbox\" ><label for=\"sk-estimator-id-42\" class=\"sk-toggleable__label sk-toggleable__label-arrow\">RandomForestClassifier</label><div class=\"sk-toggleable__content\"><pre>RandomForestClassifier()</pre></div></div></div></div></div></div></div></div></div></div>"
            ]
          },
          "metadata": {},
          "execution_count": 71
        }
      ]
    },
    {
      "cell_type": "code",
      "source": [
        "# obtaining the best estimator\n",
        "best_rf = grid_search_rf.best_estimator_\n",
        "print(best_rf)\n",
        "\n",
        "# predicting the values from the X_test_scaled\n",
        "y_pred_rf = best_rf.predict(X_test_scaled)\n",
        "\n",
        "# obtaining the accuracy score\n",
        "test_accuracy_rf = accuracy_score(y_test, y_pred_rf)\n",
        "print(f'Random Forest Test Accuracy: {test_accuracy_rf:.4f}')\n",
        "print(classification_report(y_test, y_pred_rf))"
      ],
      "metadata": {
        "colab": {
          "base_uri": "https://localhost:8080/"
        },
        "id": "5vTS7-_A2LCL",
        "outputId": "e6f2ad07-1552-47db-f029-d37ff1e2c9eb"
      },
      "execution_count": 72,
      "outputs": [
        {
          "output_type": "stream",
          "name": "stdout",
          "text": [
            "RandomForestClassifier(max_depth=20, n_estimators=200)\n",
            "Random Forest Test Accuracy: 0.6516\n",
            "              precision    recall  f1-score   support\n",
            "\n",
            "           0       0.59      0.66      0.62        68\n",
            "           1       0.71      0.64      0.67        87\n",
            "\n",
            "    accuracy                           0.65       155\n",
            "   macro avg       0.65      0.65      0.65       155\n",
            "weighted avg       0.66      0.65      0.65       155\n",
            "\n"
          ]
        }
      ]
    }
  ]
}